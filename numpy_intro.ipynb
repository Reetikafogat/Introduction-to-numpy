{
 "cells": [
  {
   "cell_type": "markdown",
   "id": "6519d793-5773-449d-b94f-fe296ba5704d",
   "metadata": {},
   "source": [
    "# introduction to numpy"
   ]
  },
  {
   "cell_type": "code",
   "execution_count": 1,
   "id": "72ce623a-5fa4-4b4a-adc6-6dde9abac45d",
   "metadata": {},
   "outputs": [],
   "source": [
    "import numpy as np\n"
   ]
  },
  {
   "cell_type": "code",
   "execution_count": 7,
   "id": "3bfcd92a-a904-432a-9695-834256452ce8",
   "metadata": {},
   "outputs": [
    {
     "data": {
      "text/plain": [
       "'2.0.1'"
      ]
     },
     "execution_count": 7,
     "metadata": {},
     "output_type": "execute_result"
    }
   ],
   "source": [
    "np. __version__"
   ]
  },
  {
   "cell_type": "markdown",
   "id": "1ec67c5d-2aa9-40fc-bce3-59ede1671156",
   "metadata": {},
   "source": [
    "# creating an array using list"
   ]
  },
  {
   "cell_type": "code",
   "execution_count": 2,
   "id": "91c940f2-6638-40de-aa88-a93dc353da35",
   "metadata": {},
   "outputs": [],
   "source": [
    "arr=np.array([23,4,5,678,90])"
   ]
  },
  {
   "cell_type": "code",
   "execution_count": 4,
   "id": "5d827c0f-ff0d-4940-bd18-73e95206a7d8",
   "metadata": {},
   "outputs": [
    {
     "data": {
      "text/plain": [
       "array([ 23,   4,   5, 678,  90])"
      ]
     },
     "execution_count": 4,
     "metadata": {},
     "output_type": "execute_result"
    }
   ],
   "source": [
    "arr"
   ]
  },
  {
   "cell_type": "raw",
   "id": "4da3c968-dc35-4aa2-84c0-24fd43792e99",
   "metadata": {},
   "source": [
    "the numpy library of python is made of 85% in c language and 55% of python"
   ]
  },
  {
   "cell_type": "code",
   "execution_count": 5,
   "id": "880d0992-ac9f-4484-b21f-b8663469b909",
   "metadata": {},
   "outputs": [
    {
     "data": {
      "text/plain": [
       "numpy.ndarray"
      ]
     },
     "execution_count": 5,
     "metadata": {},
     "output_type": "execute_result"
    }
   ],
   "source": [
    "type(arr) "
   ]
  },
  {
   "cell_type": "code",
   "execution_count": 6,
   "id": "d00861a3-bdb7-48cc-9f02-38733a0a7d96",
   "metadata": {},
   "outputs": [
    {
     "data": {
      "text/plain": [
       "1"
      ]
     },
     "execution_count": 6,
     "metadata": {},
     "output_type": "execute_result"
    }
   ],
   "source": [
    "arr.ndim # to check the dimensions of an array\n"
   ]
  },
  {
   "cell_type": "code",
   "execution_count": 4,
   "id": "a68e315d-c54d-417c-8746-485111792e8b",
   "metadata": {},
   "outputs": [
    {
     "data": {
      "text/plain": [
       "5"
      ]
     },
     "execution_count": 4,
     "metadata": {},
     "output_type": "execute_result"
    }
   ],
   "source": [
    "arr.size  # gives the no. of elements present in the array"
   ]
  },
  {
   "cell_type": "code",
   "execution_count": 6,
   "id": "10180246-05f8-4421-a905-b0f021e1f060",
   "metadata": {},
   "outputs": [
    {
     "data": {
      "text/plain": [
       "dtype('int64')"
      ]
     },
     "execution_count": 6,
     "metadata": {},
     "output_type": "execute_result"
    }
   ],
   "source": [
    "arr.dtype # checks the type of array"
   ]
  },
  {
   "cell_type": "markdown",
   "id": "deb76d9a-8937-4eb2-9d08-dcc04aa54afc",
   "metadata": {},
   "source": [
    "# slicing and indexing"
   ]
  },
  {
   "cell_type": "code",
   "execution_count": 9,
   "id": "b09dc438-823b-43cc-a55e-a56a8c4ff8c7",
   "metadata": {},
   "outputs": [
    {
     "data": {
      "text/plain": [
       "array([678,  90])"
      ]
     },
     "execution_count": 9,
     "metadata": {},
     "output_type": "execute_result"
    }
   ],
   "source": [
    "arr[3:6]"
   ]
  },
  {
   "cell_type": "code",
   "execution_count": 10,
   "id": "9477251e-1406-4ffa-9fcd-13e3cc721f84",
   "metadata": {},
   "outputs": [
    {
     "data": {
      "text/plain": [
       "array([25, 10, 20, 30, 40, 50, 60])"
      ]
     },
     "execution_count": 10,
     "metadata": {},
     "output_type": "execute_result"
    }
   ],
   "source": [
    "arr = np.array([25,10,20,30,40,50,60])\n",
    "arr"
   ]
  },
  {
   "cell_type": "code",
   "execution_count": 11,
   "id": "eed84f56-faad-4a36-8f7b-77705dbe7295",
   "metadata": {},
   "outputs": [
    {
     "data": {
      "text/plain": [
       "array([40, 50, 60])"
      ]
     },
     "execution_count": 11,
     "metadata": {},
     "output_type": "execute_result"
    }
   ],
   "source": [
    "arr[4:7]"
   ]
  },
  {
   "cell_type": "code",
   "execution_count": 13,
   "id": "1f039b82-fc34-4194-aac9-f0a83f99ce5c",
   "metadata": {},
   "outputs": [
    {
     "data": {
      "text/plain": [
       "array([40, 50])"
      ]
     },
     "execution_count": 13,
     "metadata": {},
     "output_type": "execute_result"
    }
   ],
   "source": [
    "arr[-3:-1]"
   ]
  },
  {
   "cell_type": "code",
   "execution_count": 7,
   "id": "d168f050-52a7-47da-a3a3-a6b701b00d0e",
   "metadata": {},
   "outputs": [
    {
     "data": {
      "text/plain": [
       "np.int64(800)"
      ]
     },
     "execution_count": 7,
     "metadata": {},
     "output_type": "execute_result"
    }
   ],
   "source": [
    "sum(arr) # sum function calculates the sum of the elements in the array"
   ]
  },
  {
   "cell_type": "code",
   "execution_count": 15,
   "id": "c3e498b4-be04-4732-b51c-c041da623cff",
   "metadata": {},
   "outputs": [
    {
     "data": {
      "text/plain": [
       "np.float64(33.57142857142857)"
      ]
     },
     "execution_count": 15,
     "metadata": {},
     "output_type": "execute_result"
    }
   ],
   "source": [
    "np.mean(arr)"
   ]
  },
  {
   "cell_type": "code",
   "execution_count": 16,
   "id": "a732ae82-9ea4-45c6-b191-67963db6bd09",
   "metadata": {},
   "outputs": [
    {
     "data": {
      "text/plain": [
       "np.float64(30.0)"
      ]
     },
     "execution_count": 16,
     "metadata": {},
     "output_type": "execute_result"
    }
   ],
   "source": [
    "np.median(arr)"
   ]
  },
  {
   "cell_type": "code",
   "execution_count": 17,
   "id": "01663b05-dca1-4982-aeef-37e80447d3f7",
   "metadata": {},
   "outputs": [
    {
     "data": {
      "text/plain": [
       "np.int64(60)"
      ]
     },
     "execution_count": 17,
     "metadata": {},
     "output_type": "execute_result"
    }
   ],
   "source": [
    "max(arr)"
   ]
  },
  {
   "cell_type": "code",
   "execution_count": 18,
   "id": "22d3c683-aaf5-4beb-8f6d-58a13146bde4",
   "metadata": {},
   "outputs": [
    {
     "data": {
      "text/plain": [
       "np.int64(10)"
      ]
     },
     "execution_count": 18,
     "metadata": {},
     "output_type": "execute_result"
    }
   ],
   "source": [
    "min(arr)"
   ]
  },
  {
   "cell_type": "markdown",
   "id": "1a4edf71-299c-4431-adfa-ddf062f3a090",
   "metadata": {},
   "source": [
    "# creating array of random numbers"
   ]
  },
  {
   "cell_type": "code",
   "execution_count": 20,
   "id": "41e6f29d-90f2-42ca-8bc0-0f076d5a859c",
   "metadata": {},
   "outputs": [],
   "source": [
    "import random"
   ]
  },
  {
   "cell_type": "code",
   "execution_count": 29,
   "id": "cc1c14c2-50dd-4988-b9a8-daa8abe0fb9b",
   "metadata": {},
   "outputs": [],
   "source": [
    "yt=np.random.randint(1,5,10)"
   ]
  },
  {
   "cell_type": "code",
   "execution_count": 30,
   "id": "1315f167-09f1-4f6c-916e-0251782a374d",
   "metadata": {},
   "outputs": [
    {
     "data": {
      "text/plain": [
       "array([4, 3, 1, 1, 3, 3, 1, 1, 1, 2], dtype=int32)"
      ]
     },
     "execution_count": 30,
     "metadata": {},
     "output_type": "execute_result"
    }
   ],
   "source": [
    "yt"
   ]
  },
  {
   "cell_type": "code",
   "execution_count": 33,
   "id": "3fe3c5b9-dc2e-4a08-b53f-e4c18d1b0859",
   "metadata": {},
   "outputs": [
    {
     "name": "stdout",
     "output_type": "stream",
     "text": [
      "7\n"
     ]
    }
   ],
   "source": [
    "count=0\n",
    "for i in yt:\n",
    "    if i<3:\n",
    "        count=count+i\n",
    "print(count)\n"
   ]
  },
  {
   "cell_type": "code",
   "execution_count": 10,
   "id": "aa97b2f4-99bd-46e4-9068-aa66db26f3a8",
   "metadata": {},
   "outputs": [
    {
     "data": {
      "text/plain": [
       "[[1, 2, 3], [4, 5, 6], [7, 8, 9]]"
      ]
     },
     "execution_count": 10,
     "metadata": {},
     "output_type": "execute_result"
    }
   ],
   "source": [
    "ls=[[1,2,3],\n",
    "   [4,5,6],\n",
    "   [7,8,9]]\n",
    "ls"
   ]
  },
  {
   "cell_type": "code",
   "execution_count": 11,
   "id": "c74866ff-1f41-4d9e-a9dc-e9102bef321b",
   "metadata": {},
   "outputs": [],
   "source": [
    "arr2=np.array(ls)"
   ]
  },
  {
   "cell_type": "code",
   "execution_count": 12,
   "id": "03e1239f-ad20-49d6-9347-78286cd57d95",
   "metadata": {},
   "outputs": [
    {
     "data": {
      "text/plain": [
       "array([[1, 2, 3],\n",
       "       [4, 5, 6],\n",
       "       [7, 8, 9]])"
      ]
     },
     "execution_count": 12,
     "metadata": {},
     "output_type": "execute_result"
    }
   ],
   "source": [
    "arr2"
   ]
  },
  {
   "cell_type": "code",
   "execution_count": 13,
   "id": "3596d6dd-7aeb-4295-bd8c-d001bdcdfc49",
   "metadata": {},
   "outputs": [
    {
     "data": {
      "text/plain": [
       "2"
      ]
     },
     "execution_count": 13,
     "metadata": {},
     "output_type": "execute_result"
    }
   ],
   "source": [
    "arr2.ndim  #gives the dimension of the array"
   ]
  },
  {
   "cell_type": "code",
   "execution_count": 14,
   "id": "868926fa-f91a-4321-a437-b8a1cc848f76",
   "metadata": {},
   "outputs": [
    {
     "data": {
      "text/plain": [
       "(3, 3)"
      ]
     },
     "execution_count": 14,
     "metadata": {},
     "output_type": "execute_result"
    }
   ],
   "source": [
    "arr2.shape # gives the no. of rows and columns present in the array"
   ]
  },
  {
   "cell_type": "code",
   "execution_count": 13,
   "id": "3333ac33-602b-42e7-ad6f-47344dac1915",
   "metadata": {},
   "outputs": [
    {
     "data": {
      "text/plain": [
       "array([1, 2, 3])"
      ]
     },
     "execution_count": 13,
     "metadata": {},
     "output_type": "execute_result"
    }
   ],
   "source": [
    "arr2[0]"
   ]
  },
  {
   "cell_type": "code",
   "execution_count": 15,
   "id": "46849ad9-d44e-4084-8e4a-c2599ac38a62",
   "metadata": {},
   "outputs": [
    {
     "data": {
      "text/plain": [
       "array([7, 8, 9])"
      ]
     },
     "execution_count": 15,
     "metadata": {},
     "output_type": "execute_result"
    }
   ],
   "source": [
    "arr2[2]"
   ]
  },
  {
   "cell_type": "code",
   "execution_count": 16,
   "id": "5012ef60-b93d-45a8-ae67-72b13f7e2abd",
   "metadata": {},
   "outputs": [
    {
     "data": {
      "text/plain": [
       "array([[1, 2, 3],\n",
       "       [4, 5, 6]])"
      ]
     },
     "execution_count": 16,
     "metadata": {},
     "output_type": "execute_result"
    }
   ],
   "source": [
    "arr2[0:2]"
   ]
  },
  {
   "cell_type": "code",
   "execution_count": 24,
   "id": "66318188-971e-4b16-9e5a-b59cba11c157",
   "metadata": {},
   "outputs": [
    {
     "data": {
      "text/plain": [
       "array([[5, 6],\n",
       "       [8, 9]])"
      ]
     },
     "execution_count": 24,
     "metadata": {},
     "output_type": "execute_result"
    }
   ],
   "source": [
    "arr2[1:,1:]"
   ]
  },
  {
   "cell_type": "code",
   "execution_count": 20,
   "id": "acd334a9-aaf3-47c7-a1d5-cc9811bf036d",
   "metadata": {},
   "outputs": [
    {
     "data": {
      "text/plain": [
       "array([7, 8, 9])"
      ]
     },
     "execution_count": 20,
     "metadata": {},
     "output_type": "execute_result"
    }
   ],
   "source": [
    "arr2[-1]"
   ]
  },
  {
   "cell_type": "code",
   "execution_count": 25,
   "id": "c4c0fa96-be9b-45ff-b265-dbb17b11b84b",
   "metadata": {},
   "outputs": [
    {
     "data": {
      "text/plain": [
       "array([[7, 8, 9]])"
      ]
     },
     "execution_count": 25,
     "metadata": {},
     "output_type": "execute_result"
    }
   ],
   "source": [
    "arr2[1:][1:]"
   ]
  },
  {
   "cell_type": "code",
   "execution_count": 26,
   "id": "76221dc4-977f-423d-aeeb-77a0ad6bbed6",
   "metadata": {},
   "outputs": [
    {
     "data": {
      "text/plain": [
       "array([[1, 2, 3],\n",
       "       [4, 5, 6],\n",
       "       [7, 8, 9]])"
      ]
     },
     "execution_count": 26,
     "metadata": {},
     "output_type": "execute_result"
    }
   ],
   "source": [
    "arr2"
   ]
  },
  {
   "cell_type": "code",
   "execution_count": 27,
   "id": "c7cba32c-cea2-4da2-9373-4befa6c974e2",
   "metadata": {},
   "outputs": [
    {
     "data": {
      "text/plain": [
       "array([1, 4, 7])"
      ]
     },
     "execution_count": 27,
     "metadata": {},
     "output_type": "execute_result"
    }
   ],
   "source": [
    "arr2[:,0]"
   ]
  },
  {
   "cell_type": "code",
   "execution_count": 28,
   "id": "87a4c783-4182-4793-bb71-abd4dd9f833f",
   "metadata": {},
   "outputs": [
    {
     "data": {
      "text/plain": [
       "array([[5, 6],\n",
       "       [8, 9]])"
      ]
     },
     "execution_count": 28,
     "metadata": {},
     "output_type": "execute_result"
    }
   ],
   "source": [
    "arr2[1:,1:]"
   ]
  },
  {
   "cell_type": "code",
   "execution_count": 29,
   "id": "5edf572d-bde8-48fd-8fbb-fa803f15a541",
   "metadata": {},
   "outputs": [
    {
     "data": {
      "text/plain": [
       "array([[2, 3],\n",
       "       [5, 6]])"
      ]
     },
     "execution_count": 29,
     "metadata": {},
     "output_type": "execute_result"
    }
   ],
   "source": [
    "arr2[0:2,1:]"
   ]
  },
  {
   "cell_type": "code",
   "execution_count": 30,
   "id": "077bbecd-f9a0-4b7e-8bb2-b8848fc0c2db",
   "metadata": {},
   "outputs": [
    {
     "data": {
      "text/plain": [
       "array([[4, 5],\n",
       "       [7, 8]])"
      ]
     },
     "execution_count": 30,
     "metadata": {},
     "output_type": "execute_result"
    }
   ],
   "source": [
    "arr2[1:,0:2]"
   ]
  },
  {
   "cell_type": "code",
   "execution_count": 34,
   "id": "861ef0f0-1f3c-4e1b-ae59-d1d27c9ef54b",
   "metadata": {},
   "outputs": [
    {
     "data": {
      "text/plain": [
       "array([[4, 5, 6],\n",
       "       [7, 8, 9]])"
      ]
     },
     "execution_count": 34,
     "metadata": {},
     "output_type": "execute_result"
    }
   ],
   "source": [
    "arr2[-2:,:]"
   ]
  },
  {
   "cell_type": "code",
   "execution_count": 31,
   "id": "8c4e3d20-4992-491b-8745-80edacefc1f4",
   "metadata": {},
   "outputs": [
    {
     "data": {
      "text/plain": [
       "array([[1, 2, 3],\n",
       "       [4, 5, 6],\n",
       "       [7, 8, 9]])"
      ]
     },
     "execution_count": 31,
     "metadata": {},
     "output_type": "execute_result"
    }
   ],
   "source": [
    "arr2"
   ]
  },
  {
   "cell_type": "markdown",
   "id": "683e2e14-97ab-4b9f-8566-f1ae62222477",
   "metadata": {},
   "source": [
    "# ones()"
   ]
  },
  {
   "cell_type": "raw",
   "id": "53f585fc-e3ee-43e1-b078-f134db5f90b9",
   "metadata": {},
   "source": [
    "this is used to create an array of specified size containing all the elements as 1"
   ]
  },
  {
   "cell_type": "code",
   "execution_count": 36,
   "id": "99491cb7-81b5-4740-bf8c-600fa20889c1",
   "metadata": {},
   "outputs": [
    {
     "data": {
      "text/plain": [
       "array([1., 1., 1., 1., 1., 1., 1., 1., 1., 1.])"
      ]
     },
     "execution_count": 36,
     "metadata": {},
     "output_type": "execute_result"
    }
   ],
   "source": [
    "np.ones(10)"
   ]
  },
  {
   "cell_type": "markdown",
   "id": "77129826-e890-4508-963b-25bdc4cf57ab",
   "metadata": {},
   "source": [
    "# zeroes()"
   ]
  },
  {
   "cell_type": "raw",
   "id": "fdc36d54-1de5-429f-8571-7e4a7aa8e201",
   "metadata": {},
   "source": [
    "it is used to create the array of specific size will all elements as zeroes"
   ]
  },
  {
   "cell_type": "code",
   "execution_count": 37,
   "id": "5de37a85-dbc5-45b9-acda-93db84b1f806",
   "metadata": {},
   "outputs": [
    {
     "data": {
      "text/plain": [
       "array([0., 0., 0., 0., 0., 0., 0., 0., 0., 0.])"
      ]
     },
     "execution_count": 37,
     "metadata": {},
     "output_type": "execute_result"
    }
   ],
   "source": [
    "np.zeros(10)"
   ]
  },
  {
   "cell_type": "markdown",
   "id": "3966bbd0-8a4b-4ade-bdfa-c6262eb06120",
   "metadata": {},
   "source": [
    "# linspace()"
   ]
  },
  {
   "cell_type": "raw",
   "id": "2ecd6ac9-4acd-4e22-a0ae-6c019fa0ad03",
   "metadata": {},
   "source": [
    "this  function takes the range from  which u want the elements in the array and creates the array with uniform distribution of elements from that range."
   ]
  },
  {
   "cell_type": "code",
   "execution_count": 8,
   "id": "0f782e0c-fcc7-46ea-9f7d-7ab038f32982",
   "metadata": {},
   "outputs": [],
   "source": [
    "arr3=np.linspace(1,50,10) "
   ]
  },
  {
   "cell_type": "code",
   "execution_count": 9,
   "id": "a211d776-5a20-4339-9967-842e1775d003",
   "metadata": {},
   "outputs": [
    {
     "data": {
      "text/plain": [
       "array([ 1.        ,  6.44444444, 11.88888889, 17.33333333, 22.77777778,\n",
       "       28.22222222, 33.66666667, 39.11111111, 44.55555556, 50.        ])"
      ]
     },
     "execution_count": 9,
     "metadata": {},
     "output_type": "execute_result"
    }
   ],
   "source": [
    "arr3"
   ]
  },
  {
   "cell_type": "code",
   "execution_count": 42,
   "id": "260110ea-9c8e-493b-8bb4-8610a73f04cd",
   "metadata": {},
   "outputs": [
    {
     "data": {
      "text/plain": [
       "array([17.33333333, 22.77777778, 28.22222222])"
      ]
     },
     "execution_count": 42,
     "metadata": {},
     "output_type": "execute_result"
    }
   ],
   "source": [
    "arr3[3:6]"
   ]
  },
  {
   "cell_type": "markdown",
   "id": "9b559c79-9bc8-4fe3-975d-f5738b53dfd8",
   "metadata": {},
   "source": [
    "# arange()"
   ]
  },
  {
   "cell_type": "raw",
   "id": "0832fa9b-cabc-4fbf-9c1a-d8b3a59ca46c",
   "metadata": {},
   "source": [
    "it also takes range to create the array but it would  generate  the array with evenly spaced elements  given as step value.\n",
    "syntax---> np.arange(start_value , stop , step )"
   ]
  },
  {
   "cell_type": "code",
   "execution_count": 26,
   "id": "12764402-e6cd-424e-b1b1-073baeb08c92",
   "metadata": {},
   "outputs": [
    {
     "data": {
      "text/plain": [
       "array([ 1, 11, 21, 31, 41])"
      ]
     },
     "execution_count": 26,
     "metadata": {},
     "output_type": "execute_result"
    }
   ],
   "source": [
    "np.arange(1,50,10) # here we can see that 5 elements are returned with a space of 10 (step_value)"
   ]
  },
  {
   "cell_type": "markdown",
   "id": "eebf3370-01d9-4794-858a-19b103f6d780",
   "metadata": {},
   "source": [
    "# full()"
   ]
  },
  {
   "cell_type": "raw",
   "id": "b040ad06-c9fe-4e10-8ccf-bca62dabaf74",
   "metadata": {},
   "source": [
    "it ceates an array of the specified element\n",
    "syntax---> np.full(size_of_the_array, element)"
   ]
  },
  {
   "cell_type": "code",
   "execution_count": 28,
   "id": "2e342263-3910-4aa4-823f-f2093ca53c65",
   "metadata": {},
   "outputs": [
    {
     "data": {
      "text/plain": [
       "array([25, 25, 25, 25, 25, 25, 25, 25, 25, 25])"
      ]
     },
     "execution_count": 28,
     "metadata": {},
     "output_type": "execute_result"
    }
   ],
   "source": [
    "np.full(10,25)"
   ]
  },
  {
   "cell_type": "markdown",
   "id": "4b9bf0a5-195b-43d8-9e47-dc26e454faaf",
   "metadata": {},
   "source": [
    "# 3d array"
   ]
  },
  {
   "cell_type": "code",
   "execution_count": 15,
   "id": "e8acd722-02a5-4665-b5f3-a2960b233945",
   "metadata": {},
   "outputs": [
    {
     "data": {
      "text/plain": [
       "array([[1, 2, 3],\n",
       "       [4, 5, 6],\n",
       "       [7, 8, 9]])"
      ]
     },
     "execution_count": 15,
     "metadata": {},
     "output_type": "execute_result"
    }
   ],
   "source": [
    "arr2"
   ]
  },
  {
   "cell_type": "code",
   "execution_count": 16,
   "id": "f69a5dd1-bc45-472b-b1f0-49f69c11da28",
   "metadata": {},
   "outputs": [],
   "source": [
    "ls=arr2"
   ]
  },
  {
   "cell_type": "code",
   "execution_count": 17,
   "id": "a5886d8e-5566-42fc-b372-58a06a1f26c6",
   "metadata": {},
   "outputs": [],
   "source": [
    "ls=[[[1, 2, 3],\n",
    "       [4, 5, 6],\n",
    "       [7, 8, 9]],\n",
    "    [[1, 2, 3],\n",
    "       [4, 5, 6],\n",
    "       [7, 8, 9]],\n",
    "    [[1, 2, 3],\n",
    "       [4, 5, 6],\n",
    "       [7, 8, 9]],\n",
    "    [[1, 2, 3],\n",
    "       [4, 5, 6],\n",
    "       [7, 8, 9]]]"
   ]
  },
  {
   "cell_type": "code",
   "execution_count": 18,
   "id": "9f534b21-e7c9-4df1-97df-9a68e77a7b96",
   "metadata": {},
   "outputs": [
    {
     "data": {
      "text/plain": [
       "[[[1, 2, 3], [4, 5, 6], [7, 8, 9]],\n",
       " [[1, 2, 3], [4, 5, 6], [7, 8, 9]],\n",
       " [[1, 2, 3], [4, 5, 6], [7, 8, 9]],\n",
       " [[1, 2, 3], [4, 5, 6], [7, 8, 9]]]"
      ]
     },
     "execution_count": 18,
     "metadata": {},
     "output_type": "execute_result"
    }
   ],
   "source": [
    "ls"
   ]
  },
  {
   "cell_type": "code",
   "execution_count": 29,
   "id": "4bcd9968-0f10-4b73-bcd6-418bf19f2482",
   "metadata": {},
   "outputs": [],
   "source": [
    "arr4=np.array(ls)"
   ]
  },
  {
   "cell_type": "code",
   "execution_count": 30,
   "id": "e15cea99-15db-4c7c-86b3-98005067e26f",
   "metadata": {},
   "outputs": [
    {
     "data": {
      "text/plain": [
       "3"
      ]
     },
     "execution_count": 30,
     "metadata": {},
     "output_type": "execute_result"
    }
   ],
   "source": [
    "arr4.ndim"
   ]
  },
  {
   "cell_type": "code",
   "execution_count": 61,
   "id": "b3f14593-0bdc-4a78-bf20-72194c3d973c",
   "metadata": {},
   "outputs": [
    {
     "data": {
      "text/plain": [
       "(4, 3, 3)"
      ]
     },
     "execution_count": 61,
     "metadata": {},
     "output_type": "execute_result"
    }
   ],
   "source": [
    "arr4.shape"
   ]
  },
  {
   "cell_type": "code",
   "execution_count": 63,
   "id": "f2c31882-039d-48b5-a3b9-7a4520aade33",
   "metadata": {},
   "outputs": [
    {
     "data": {
      "text/plain": [
       "array([[4, 5, 6],\n",
       "       [7, 8, 9]])"
      ]
     },
     "execution_count": 63,
     "metadata": {},
     "output_type": "execute_result"
    }
   ],
   "source": [
    "arr4[1,1:,0:]"
   ]
  },
  {
   "cell_type": "code",
   "execution_count": 65,
   "id": "7814f99a-99ca-4396-ab06-adb6401daa18",
   "metadata": {},
   "outputs": [
    {
     "data": {
      "text/plain": [
       "array([[[1, 2, 3],\n",
       "        [4, 5, 6],\n",
       "        [7, 8, 9]],\n",
       "\n",
       "       [[1, 2, 3],\n",
       "        [4, 5, 6],\n",
       "        [7, 8, 9]]])"
      ]
     },
     "execution_count": 65,
     "metadata": {},
     "output_type": "execute_result"
    }
   ],
   "source": [
    "arr4[0:2] # to access multiple columns in a 3d array "
   ]
  },
  {
   "cell_type": "code",
   "execution_count": 66,
   "id": "e51c8b47-cab5-4daf-8875-35c29bf46357",
   "metadata": {},
   "outputs": [
    {
     "data": {
      "text/plain": [
       "array([[1, 2, 3],\n",
       "       [1, 2, 3],\n",
       "       [1, 2, 3],\n",
       "       [1, 2, 3]])"
      ]
     },
     "execution_count": 66,
     "metadata": {},
     "output_type": "execute_result"
    }
   ],
   "source": [
    "arr4[:,0,:]"
   ]
  },
  {
   "cell_type": "code",
   "execution_count": 59,
   "id": "db18a0cc-8e3d-47e3-9c50-bef247d97ff5",
   "metadata": {},
   "outputs": [
    {
     "data": {
      "text/plain": [
       "array([[[1, 2, 3],\n",
       "        [4, 5, 6],\n",
       "        [7, 8, 9]],\n",
       "\n",
       "       [[1, 2, 3],\n",
       "        [4, 5, 6],\n",
       "        [7, 8, 9]],\n",
       "\n",
       "       [[1, 2, 3],\n",
       "        [4, 5, 6],\n",
       "        [7, 8, 9]],\n",
       "\n",
       "       [[1, 2, 3],\n",
       "        [4, 5, 6],\n",
       "        [7, 8, 9]]])"
      ]
     },
     "execution_count": 59,
     "metadata": {},
     "output_type": "execute_result"
    }
   ],
   "source": [
    "arr4"
   ]
  },
  {
   "cell_type": "code",
   "execution_count": 68,
   "id": "e7e3ad9a-47c3-427e-82e4-92a5a7bec352",
   "metadata": {},
   "outputs": [
    {
     "data": {
      "text/plain": [
       "array([[4, 5, 6],\n",
       "       [4, 5, 6]])"
      ]
     },
     "execution_count": 68,
     "metadata": {},
     "output_type": "execute_result"
    }
   ],
   "source": [
    "arr4[0:4:2,1,:]"
   ]
  },
  {
   "cell_type": "code",
   "execution_count": 69,
   "id": "adcd2c6f-57c7-467a-8850-288c70616cce",
   "metadata": {},
   "outputs": [
    {
     "data": {
      "text/plain": [
       "array([[1, 2, 3],\n",
       "       [1, 2, 3],\n",
       "       [1, 2, 3],\n",
       "       [1, 2, 3]])"
      ]
     },
     "execution_count": 69,
     "metadata": {},
     "output_type": "execute_result"
    }
   ],
   "source": [
    "arr4[-4:,-3,:]"
   ]
  },
  {
   "cell_type": "code",
   "execution_count": 74,
   "id": "f94dfc9c-98ff-4703-a347-6a2798154b6f",
   "metadata": {},
   "outputs": [
    {
     "data": {
      "text/plain": [
       "array([[[5, 6],\n",
       "        [8, 9]],\n",
       "\n",
       "       [[5, 6],\n",
       "        [8, 9]],\n",
       "\n",
       "       [[5, 6],\n",
       "        [8, 9]],\n",
       "\n",
       "       [[5, 6],\n",
       "        [8, 9]]])"
      ]
     },
     "execution_count": 74,
     "metadata": {},
     "output_type": "execute_result"
    }
   ],
   "source": [
    "arr4[0:,1:,1:]\n"
   ]
  },
  {
   "cell_type": "code",
   "execution_count": 76,
   "id": "11b9a52b-e921-4758-ab99-e6bbf8f4253a",
   "metadata": {},
   "outputs": [
    {
     "data": {
      "text/plain": [
       "array([[9, 8, 7],\n",
       "       [9, 8, 7],\n",
       "       [9, 8, 7],\n",
       "       [9, 8, 7]])"
      ]
     },
     "execution_count": 76,
     "metadata": {},
     "output_type": "execute_result"
    }
   ],
   "source": [
    " arr4[:,2,-1::-1]"
   ]
  },
  {
   "cell_type": "code",
   "execution_count": 79,
   "id": "40ca445b-5e13-4242-a442-bb02bfc9f02a",
   "metadata": {},
   "outputs": [
    {
     "data": {
      "text/plain": [
       "array([[7, 8, 9],\n",
       "       [7, 8, 9],\n",
       "       [7, 8, 9],\n",
       "       [7, 8, 9]])"
      ]
     },
     "execution_count": 79,
     "metadata": {},
     "output_type": "execute_result"
    }
   ],
   "source": [
    "arr4[:,2, 0:]"
   ]
  },
  {
   "cell_type": "markdown",
   "id": "c2e4b8f0-46ba-4abb-91cd-359e87425728",
   "metadata": {},
   "source": [
    "#  multidimensional array to 1D array"
   ]
  },
  {
   "cell_type": "raw",
   "id": "1679c0ea-e07e-4d64-97ef-868224cc17e8",
   "metadata": {},
   "source": [
    "multidimensional aray can be coverted in 1d array by using the ravel() and flatten()"
   ]
  },
  {
   "cell_type": "code",
   "execution_count": 62,
   "id": "55bd0fd4-16c1-4cf3-9a57-4ec5cdd9fb08",
   "metadata": {},
   "outputs": [
    {
     "data": {
      "text/plain": [
       "array([[[1, 2, 3],\n",
       "        [4, 5, 6],\n",
       "        [7, 8, 9]],\n",
       "\n",
       "       [[1, 2, 3],\n",
       "        [4, 5, 6],\n",
       "        [7, 8, 9]],\n",
       "\n",
       "       [[1, 2, 3],\n",
       "        [4, 5, 6],\n",
       "        [7, 8, 9]],\n",
       "\n",
       "       [[1, 2, 3],\n",
       "        [4, 5, 6],\n",
       "        [7, 8, 9]]])"
      ]
     },
     "execution_count": 62,
     "metadata": {},
     "output_type": "execute_result"
    }
   ],
   "source": [
    "arr4"
   ]
  },
  {
   "cell_type": "code",
   "execution_count": 31,
   "id": "5998a053-ea8f-4407-8871-8ff5abbcd7b8",
   "metadata": {},
   "outputs": [
    {
     "data": {
      "text/plain": [
       "array([1, 2, 3, 4, 5, 6, 7, 8, 9, 1, 2, 3, 4, 5, 6, 7, 8, 9, 1, 2, 3, 4,\n",
       "       5, 6, 7, 8, 9, 1, 2, 3, 4, 5, 6, 7, 8, 9])"
      ]
     },
     "execution_count": 31,
     "metadata": {},
     "output_type": "execute_result"
    }
   ],
   "source": [
    "arr4.ravel()"
   ]
  },
  {
   "cell_type": "code",
   "execution_count": 84,
   "id": "cf6908ec-5bed-46ab-a4ff-b83344c4b758",
   "metadata": {},
   "outputs": [
    {
     "data": {
      "text/plain": [
       "array([1, 2, 3, 4, 5, 6, 7, 8, 9, 1, 2, 3, 4, 5, 6, 7, 8, 9, 1, 2, 3, 4,\n",
       "       5, 6, 7, 8, 9, 1, 2, 3, 4, 5, 6, 7, 8, 9])"
      ]
     },
     "execution_count": 84,
     "metadata": {},
     "output_type": "execute_result"
    }
   ],
   "source": [
    "arr4.flatten()"
   ]
  },
  {
   "cell_type": "markdown",
   "id": "078cc44b-f1a3-4849-a0ea-06ad32a1db8e",
   "metadata": {},
   "source": [
    "# reshape()"
   ]
  },
  {
   "cell_type": "raw",
   "id": "83c2d815-bfda-4f60-9da5-8a1cc5180952",
   "metadata": {},
   "source": [
    "it is used to reshape an existing array. say, you have the arr4 of 36 elements then the possible arrays can be of 4x9,9x4,12x3,3x12"
   ]
  },
  {
   "cell_type": "code",
   "execution_count": 88,
   "id": "3bf16908-d5e1-4fc9-b379-4890cb8b62b8",
   "metadata": {},
   "outputs": [
    {
     "data": {
      "text/plain": [
       "array([[1, 2, 3, 4],\n",
       "       [5, 6, 7, 8],\n",
       "       [9, 1, 2, 3],\n",
       "       [4, 5, 6, 7],\n",
       "       [8, 9, 1, 2],\n",
       "       [3, 4, 5, 6],\n",
       "       [7, 8, 9, 1],\n",
       "       [2, 3, 4, 5],\n",
       "       [6, 7, 8, 9]])"
      ]
     },
     "execution_count": 88,
     "metadata": {},
     "output_type": "execute_result"
    }
   ],
   "source": [
    "arr4.reshape(9,4)"
   ]
  },
  {
   "cell_type": "code",
   "execution_count": 95,
   "id": "983089d6-3712-4464-a286-9224bd498f22",
   "metadata": {},
   "outputs": [],
   "source": [
    "full_arr=np.full([2,2],45,dtype=int)"
   ]
  },
  {
   "cell_type": "code",
   "execution_count": 96,
   "id": "d292e637-93a7-47c2-b3a7-37c46e80cd0f",
   "metadata": {},
   "outputs": [
    {
     "data": {
      "text/plain": [
       "array([[45, 45],\n",
       "       [45, 45]])"
      ]
     },
     "execution_count": 96,
     "metadata": {},
     "output_type": "execute_result"
    }
   ],
   "source": [
    "full_arr"
   ]
  },
  {
   "cell_type": "markdown",
   "id": "a95a89a3-0a61-4e7a-a271-89f035c0e3dc",
   "metadata": {},
   "source": [
    "# argmin(),argmax() & argsort()"
   ]
  },
  {
   "cell_type": "code",
   "execution_count": 98,
   "id": "2e9003f4-20ed-4573-8804-e046d7623ffb",
   "metadata": {},
   "outputs": [],
   "source": [
    "a=np.array([12,13,4,5,5,6], ndmin=1)"
   ]
  },
  {
   "cell_type": "code",
   "execution_count": 99,
   "id": "c46a90c2-088a-4f9f-9efc-9076f96b2625",
   "metadata": {},
   "outputs": [
    {
     "data": {
      "text/plain": [
       "array([12, 13,  4,  5,  5,  6])"
      ]
     },
     "execution_count": 99,
     "metadata": {},
     "output_type": "execute_result"
    }
   ],
   "source": [
    "a"
   ]
  },
  {
   "cell_type": "code",
   "execution_count": 100,
   "id": "e6203404-73d9-44ac-a5f5-13e0769b3ed0",
   "metadata": {},
   "outputs": [
    {
     "data": {
      "text/plain": [
       "np.int64(2)"
      ]
     },
     "execution_count": 100,
     "metadata": {},
     "output_type": "execute_result"
    }
   ],
   "source": [
    "a.argmin() # it returns the index of the smallest value in the array"
   ]
  },
  {
   "cell_type": "code",
   "execution_count": 101,
   "id": "cea2c1e4-1081-4feb-a0aa-fef68900912e",
   "metadata": {},
   "outputs": [
    {
     "data": {
      "text/plain": [
       "np.int64(1)"
      ]
     },
     "execution_count": 101,
     "metadata": {},
     "output_type": "execute_result"
    }
   ],
   "source": [
    "a.argmax() # it returns the index of the  largest value in the array"
   ]
  },
  {
   "cell_type": "code",
   "execution_count": 130,
   "id": "becf34d4-fa3f-4126-84f9-b8b5e890ca69",
   "metadata": {},
   "outputs": [],
   "source": [
    "n=a.argsort() # it sorts the elements and returns the sorted index of the element "
   ]
  },
  {
   "cell_type": "code",
   "execution_count": 129,
   "id": "046efa97-cd8f-44e0-8b3b-74716e13d62b",
   "metadata": {},
   "outputs": [
    {
     "data": {
      "text/plain": [
       "array([12, 13,  4,  5,  5,  6])"
      ]
     },
     "execution_count": 129,
     "metadata": {},
     "output_type": "execute_result"
    }
   ],
   "source": [
    "a"
   ]
  },
  {
   "cell_type": "code",
   "execution_count": 131,
   "id": "29496d5d-4c26-4861-84cb-9b465ab163f2",
   "metadata": {},
   "outputs": [
    {
     "data": {
      "text/plain": [
       "array([2, 3, 4, 5, 0, 1])"
      ]
     },
     "execution_count": 131,
     "metadata": {},
     "output_type": "execute_result"
    }
   ],
   "source": [
    "n"
   ]
  },
  {
   "cell_type": "code",
   "execution_count": 71,
   "id": "76708c68-3b4f-448b-8455-383ad727bc3b",
   "metadata": {},
   "outputs": [],
   "source": [
    "arr5=[[[2,3,4],\n",
    "      [6,3,6],\n",
    "      [8,7,0]],\n",
    "      \n",
    "      [[2,3,4],\n",
    "      [6,3,6],\n",
    "      [8,7,0]],\n",
    "      \n",
    "      [[2,3,4],\n",
    "      [6,3,6],\n",
    "      [8,7,0]],\n",
    "      \n",
    "      [[2,3,4],\n",
    "      [6,3,6],\n",
    "      [8,7,0]]]"
   ]
  },
  {
   "cell_type": "code",
   "execution_count": 72,
   "id": "ff7f6167-85e2-46e9-b0da-e3a993dcb39a",
   "metadata": {},
   "outputs": [
    {
     "data": {
      "text/plain": [
       "array([[[2, 3, 4],\n",
       "        [6, 3, 6],\n",
       "        [8, 7, 0]],\n",
       "\n",
       "       [[2, 3, 4],\n",
       "        [6, 3, 6],\n",
       "        [8, 7, 0]],\n",
       "\n",
       "       [[2, 3, 4],\n",
       "        [6, 3, 6],\n",
       "        [8, 7, 0]],\n",
       "\n",
       "       [[2, 3, 4],\n",
       "        [6, 3, 6],\n",
       "        [8, 7, 0]]])"
      ]
     },
     "execution_count": 72,
     "metadata": {},
     "output_type": "execute_result"
    }
   ],
   "source": [
    "np.array(arr5)"
   ]
  },
  {
   "cell_type": "markdown",
   "id": "51e03c60-d7bd-4df3-972e-2e0599d3ebf8",
   "metadata": {},
   "source": [
    "# vstack() and concatenate()"
   ]
  },
  {
   "cell_type": "raw",
   "id": "8f31d117-3799-40ed-9d94-398b7b0895e8",
   "metadata": {},
   "source": [
    "to join two arrays vertically we use concatenate() and vstack()"
   ]
  },
  {
   "cell_type": "code",
   "execution_count": 80,
   "id": "16e5f6ab-7c20-465a-bfd2-9a635d87506c",
   "metadata": {},
   "outputs": [
    {
     "data": {
      "text/plain": [
       "array([[[1, 2, 3],\n",
       "        [4, 5, 6],\n",
       "        [7, 8, 9]],\n",
       "\n",
       "       [[1, 2, 3],\n",
       "        [4, 5, 6],\n",
       "        [7, 8, 9]],\n",
       "\n",
       "       [[1, 2, 3],\n",
       "        [4, 5, 6],\n",
       "        [7, 8, 9]],\n",
       "\n",
       "       [[1, 2, 3],\n",
       "        [4, 5, 6],\n",
       "        [7, 8, 9]],\n",
       "\n",
       "       [[2, 3, 4],\n",
       "        [6, 3, 6],\n",
       "        [8, 7, 0]],\n",
       "\n",
       "       [[2, 3, 4],\n",
       "        [6, 3, 6],\n",
       "        [8, 7, 0]],\n",
       "\n",
       "       [[2, 3, 4],\n",
       "        [6, 3, 6],\n",
       "        [8, 7, 0]],\n",
       "\n",
       "       [[2, 3, 4],\n",
       "        [6, 3, 6],\n",
       "        [8, 7, 0]]])"
      ]
     },
     "execution_count": 80,
     "metadata": {},
     "output_type": "execute_result"
    }
   ],
   "source": [
    "np.vstack((arr4,arr5))"
   ]
  },
  {
   "cell_type": "code",
   "execution_count": 81,
   "id": "62479823-e457-4f82-a22c-bcf1b94ae7cb",
   "metadata": {},
   "outputs": [
    {
     "data": {
      "text/plain": [
       "array([[[1, 2, 3],\n",
       "        [4, 5, 6],\n",
       "        [7, 8, 9]],\n",
       "\n",
       "       [[1, 2, 3],\n",
       "        [4, 5, 6],\n",
       "        [7, 8, 9]],\n",
       "\n",
       "       [[1, 2, 3],\n",
       "        [4, 5, 6],\n",
       "        [7, 8, 9]],\n",
       "\n",
       "       [[1, 2, 3],\n",
       "        [4, 5, 6],\n",
       "        [7, 8, 9]],\n",
       "\n",
       "       [[2, 3, 4],\n",
       "        [6, 3, 6],\n",
       "        [8, 7, 0]],\n",
       "\n",
       "       [[2, 3, 4],\n",
       "        [6, 3, 6],\n",
       "        [8, 7, 0]],\n",
       "\n",
       "       [[2, 3, 4],\n",
       "        [6, 3, 6],\n",
       "        [8, 7, 0]],\n",
       "\n",
       "       [[2, 3, 4],\n",
       "        [6, 3, 6],\n",
       "        [8, 7, 0]]])"
      ]
     },
     "execution_count": 81,
     "metadata": {},
     "output_type": "execute_result"
    }
   ],
   "source": [
    "np.concatenate((arr4 , arr5), axis=0 )"
   ]
  },
  {
   "cell_type": "markdown",
   "id": "2cfef28b-05fd-4e6f-9095-3c61c25f3630",
   "metadata": {},
   "source": [
    "# hstack() \n",
    "#joining the arrays horizontally"
   ]
  },
  {
   "cell_type": "code",
   "execution_count": 82,
   "id": "49c94b92-803f-4bde-95ee-01c3aeb2fac0",
   "metadata": {},
   "outputs": [
    {
     "data": {
      "text/plain": [
       "array([[[1, 2, 3],\n",
       "        [4, 5, 6],\n",
       "        [7, 8, 9],\n",
       "        [2, 3, 4],\n",
       "        [6, 3, 6],\n",
       "        [8, 7, 0]],\n",
       "\n",
       "       [[1, 2, 3],\n",
       "        [4, 5, 6],\n",
       "        [7, 8, 9],\n",
       "        [2, 3, 4],\n",
       "        [6, 3, 6],\n",
       "        [8, 7, 0]],\n",
       "\n",
       "       [[1, 2, 3],\n",
       "        [4, 5, 6],\n",
       "        [7, 8, 9],\n",
       "        [2, 3, 4],\n",
       "        [6, 3, 6],\n",
       "        [8, 7, 0]],\n",
       "\n",
       "       [[1, 2, 3],\n",
       "        [4, 5, 6],\n",
       "        [7, 8, 9],\n",
       "        [2, 3, 4],\n",
       "        [6, 3, 6],\n",
       "        [8, 7, 0]]])"
      ]
     },
     "execution_count": 82,
     "metadata": {},
     "output_type": "execute_result"
    }
   ],
   "source": [
    "np.hstack((arr4,arr5))"
   ]
  },
  {
   "cell_type": "code",
   "execution_count": 83,
   "id": "aaa12a84-4625-4c9e-92bb-56f619af6ff3",
   "metadata": {},
   "outputs": [
    {
     "data": {
      "text/plain": [
       "array([[[1, 2, 3],\n",
       "        [4, 5, 6],\n",
       "        [7, 8, 9],\n",
       "        [2, 3, 4],\n",
       "        [6, 3, 6],\n",
       "        [8, 7, 0]],\n",
       "\n",
       "       [[1, 2, 3],\n",
       "        [4, 5, 6],\n",
       "        [7, 8, 9],\n",
       "        [2, 3, 4],\n",
       "        [6, 3, 6],\n",
       "        [8, 7, 0]],\n",
       "\n",
       "       [[1, 2, 3],\n",
       "        [4, 5, 6],\n",
       "        [7, 8, 9],\n",
       "        [2, 3, 4],\n",
       "        [6, 3, 6],\n",
       "        [8, 7, 0]],\n",
       "\n",
       "       [[1, 2, 3],\n",
       "        [4, 5, 6],\n",
       "        [7, 8, 9],\n",
       "        [2, 3, 4],\n",
       "        [6, 3, 6],\n",
       "        [8, 7, 0]]])"
      ]
     },
     "execution_count": 83,
     "metadata": {},
     "output_type": "execute_result"
    }
   ],
   "source": [
    "np.concatenate((arr4 , arr5), axis=1 )"
   ]
  },
  {
   "cell_type": "code",
   "execution_count": null,
   "id": "40f66ede-ca4a-4eae-afd1-b1dd9895131d",
   "metadata": {},
   "outputs": [],
   "source": []
  }
 ],
 "metadata": {
  "kernelspec": {
   "display_name": "Python 3 (ipykernel)",
   "language": "python",
   "name": "python3"
  },
  "language_info": {
   "codemirror_mode": {
    "name": "ipython",
    "version": 3
   },
   "file_extension": ".py",
   "mimetype": "text/x-python",
   "name": "python",
   "nbconvert_exporter": "python",
   "pygments_lexer": "ipython3",
   "version": "3.11.7"
  }
 },
 "nbformat": 4,
 "nbformat_minor": 5
}
